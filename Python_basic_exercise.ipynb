{
 "cells": [
  {
   "cell_type": "markdown",
   "id": "8d2fef1e",
   "metadata": {},
   "source": [
    "# Debugging\n",
    "Debug the below code block"
   ]
  },
  {
   "cell_type": "code",
   "execution_count": 1,
   "id": "7e906b49",
   "metadata": {
    "ExecuteTime": {
     "end_time": "2022-06-24T06:33:23.706094Z",
     "start_time": "2022-06-24T06:33:23.700209Z"
    }
   },
   "outputs": [
    {
     "name": "stdout",
     "output_type": "stream",
     "text": [
      "Day 1 - String Manipulation\n",
      "String Concatenation is done with the sign.\n",
      "New lines can be created with a backslash and n.\n"
     ]
    }
   ],
   "source": [
    "print(\"Day 1 - String Manipulation\")\n",
    "print(\"String Concatenation is done with the \" +  'sign.')\n",
    "print(\"New lines can be created with a backslash and n.\")"
   ]
  },
  {
   "cell_type": "markdown",
   "id": "ad84953f",
   "metadata": {},
   "source": [
    "# input function\n",
    "Write a program that prints the number of characters in a user's name. "
   ]
  },
  {
   "cell_type": "code",
   "execution_count": 2,
   "id": "bdef4e04",
   "metadata": {},
   "outputs": [
    {
     "name": "stdout",
     "output_type": "stream",
     "text": [
      "13\n"
     ]
    }
   ],
   "source": [
    "name = ('Han Nwe Nyein')\n",
    "print (len (name))"
   ]
  },
  {
   "cell_type": "markdown",
   "id": "b4625f86",
   "metadata": {},
   "source": [
    "# Variables\n",
    "Write a program that switches the values stored in the variables a and b."
   ]
  },
  {
   "cell_type": "markdown",
   "id": "244d2fd2",
   "metadata": {},
   "source": [
    "Hint\n",
    "\n",
    "You should not have to type any numbers in your code.\n",
    "\n",
    "You might need to make some more variables."
   ]
  },
  {
   "cell_type": "markdown",
   "id": "9f10833b",
   "metadata": {
    "ExecuteTime": {
     "end_time": "2022-06-24T05:01:50.863301Z",
     "start_time": "2022-06-24T05:01:50.857649Z"
    }
   },
   "source": [
    "Example Input\n",
    "\n",
    "a: 3\n",
    "\n",
    "b: 5\n",
    "    \n",
    "Example Output\n",
    "\n",
    "a: 5\n",
    "\n",
    "b: 3"
   ]
  },
  {
   "cell_type": "code",
   "execution_count": 1,
   "id": "fa8ece88",
   "metadata": {},
   "outputs": [
    {
     "name": "stdout",
     "output_type": "stream",
     "text": [
      "a: 3\n",
      "b: 5\n",
      "a: 5\n",
      "b: 3\n"
     ]
    }
   ],
   "source": [
    "a = input(\"a: \")\n",
    "b = input(\"b: \")\n",
    "# Don't change the code above \n",
    "\n",
    "#Write your code below this line \n",
    "c = a\n",
    "d = b\n",
    "\n",
    "a = d\n",
    "b = c\n",
    "\n",
    "#  Don't change the code below \n",
    "print(\"a: \" + a)\n",
    "print(\"b: \" + b)"
   ]
  },
  {
   "cell_type": "markdown",
   "id": "afe79432",
   "metadata": {},
   "source": [
    "# Create a string made of the first, middle and last character"
   ]
  },
  {
   "cell_type": "markdown",
   "id": "992977b1",
   "metadata": {
    "ExecuteTime": {
     "end_time": "2022-06-23T15:44:57.699987Z",
     "start_time": "2022-06-23T15:44:57.691227Z"
    }
   },
   "source": [
    "Write a program to create a new string made of an input string’s first, middle, and last character.\n",
    "\n",
    "\n",
    "Given : \n",
    "\n",
    "> str1 = \"James\"\n",
    "\n",
    "\n",
    "\n",
    "Output : \n",
    "\n",
    "\n",
    "> Jms\n"
   ]
  },
  {
   "cell_type": "code",
   "execution_count": 5,
   "id": "23860ed0",
   "metadata": {},
   "outputs": [
    {
     "name": "stdout",
     "output_type": "stream",
     "text": [
      "Enter a name: James\n",
      "Jms\n"
     ]
    }
   ],
   "source": [
    "name = input(\"Enter a name: \")\n",
    "print(name[0] + name[int(len(name)/2)] + name[-1])\n"
   ]
  },
  {
   "cell_type": "markdown",
   "id": "e45197ef",
   "metadata": {},
   "source": [
    "# Pet City\n",
    "\n",
    "1. Ask the user for the name of pet.\n",
    "\n",
    "2. Ask the user for the city that they grew up in.\n",
    "\n",
    "3. Combine the name of their city and pet and print city name."
   ]
  },
  {
   "cell_type": "code",
   "execution_count": 2,
   "id": "7cbc41f7",
   "metadata": {},
   "outputs": [
    {
     "name": "stdout",
     "output_type": "stream",
     "text": [
      "Enter your pet name: Snow\n",
      "Enter your city name: LA\n",
      "SnowLA\n"
     ]
    }
   ],
   "source": [
    "pet_name = input(\"Enter your pet name: \")\n",
    "city_name = input(\"Enter your city name: \")\n",
    "print (pet_name + city_name)"
   ]
  },
  {
   "cell_type": "markdown",
   "id": "0d310b49",
   "metadata": {},
   "source": [
    "# Data types\n",
    "Write a program that adds the digits in a 2 digit number. e.g. if the input was 35, then the output should be 3 + 5 = 8"
   ]
  },
  {
   "cell_type": "markdown",
   "id": "f8476c24",
   "metadata": {},
   "source": [
    "Example Input\n",
    "\n",
    "39\n",
    "\n",
    "Example output \n",
    "\n",
    "3 + 9 = 12\n",
    "\n",
    "12"
   ]
  },
  {
   "cell_type": "code",
   "execution_count": 25,
   "id": "ccbfd1e1",
   "metadata": {},
   "outputs": [
    {
     "name": "stdout",
     "output_type": "stream",
     "text": [
      "Enter 2 digit number: 39\n",
      "3 + 9 = 12\n"
     ]
    }
   ],
   "source": [
    "number1 = input (\"Enter 2 digit number: \")\n",
    "sum = int(number1[0]) + int(number1[1])\n",
    "print(number1[0] + \" + \" + number1[1] + \" = \" + str(sum))"
   ]
  },
  {
   "cell_type": "markdown",
   "id": "cd95253c",
   "metadata": {},
   "source": [
    "# tip calculator!\n",
    "\n",
    "What was the total bill? $124.56\n",
    "\n",
    "How much tip would you like to give? 10, 12, or 15? 12\n",
    "\n",
    "How many people to split the bill? 7"
   ]
  },
  {
   "cell_type": "code",
   "execution_count": 6,
   "id": "d8595d5a",
   "metadata": {},
   "outputs": [
    {
     "name": "stdout",
     "output_type": "stream",
     "text": [
      "Enter total bill amount: 124.56\n",
      "Enter tip amount : 10, 12 or 15? 12\n",
      "How many people will split the bill?7\n",
      "19.9296\n"
     ]
    }
   ],
   "source": [
    "total_bill = input(\"Enter total bill amount: \")\n",
    "tip_amount = input(\"Enter tip amount : 10, 12 or 15? \")\n",
    "people = input(\"How many people will split the bill?\")\n",
    "\n",
    "ans = ((float(total_bill) * int(tip_amount)/100) + float(total_bill)) / int(people)\n",
    "print(ans)"
   ]
  },
  {
   "cell_type": "markdown",
   "id": "1c3ae3e9",
   "metadata": {},
   "source": [
    "# Even Odd\n",
    "\n",
    "Write a program that works out whether if a given number is an odd or even number.\n",
    "\n",
    "**hint**:\n",
    "The modulo is written as a percentage sign (%) in Python. It gives you the remainder after a division."
   ]
  },
  {
   "cell_type": "code",
   "execution_count": 35,
   "id": "37a25116",
   "metadata": {},
   "outputs": [
    {
     "name": "stdout",
     "output_type": "stream",
     "text": [
      "Enter a number: 31\n",
      "Odd\n"
     ]
    }
   ],
   "source": [
    "input_number = input(\"Enter a number: \")\n",
    "number = int(input_number) % 2\n",
    "if (number == 0):\n",
    "    print (\"Even\")\n",
    "else:\n",
    "    print(\"Odd\")"
   ]
  },
  {
   "cell_type": "markdown",
   "id": "42e246a7",
   "metadata": {
    "ExecuteTime": {
     "end_time": "2022-06-24T03:56:43.028877Z",
     "start_time": "2022-06-24T03:56:43.020860Z"
    }
   },
   "source": [
    "# Calculate the multiplication and sum of two numbers\n",
    "\n",
    "Given two integer numbers return their product only if the product is equal to or lower than 1000, else return their sum.\n",
    "\n",
    "\n",
    "Given \n",
    "\n",
    "```\n",
    "number1 = 20\n",
    "number2 = 30\n",
    "```\n",
    "\n",
    "Expected Output\n",
    "```\n",
    "The result is 600\n",
    "\n",
    "```\n"
   ]
  },
  {
   "cell_type": "code",
   "execution_count": 16,
   "id": "ea33fd4d",
   "metadata": {},
   "outputs": [
    {
     "name": "stdout",
     "output_type": "stream",
     "text": [
      "Enter first number: 30\n",
      "Enter second number: 60\n",
      "The result is 90\n"
     ]
    }
   ],
   "source": [
    "number1 = input (\"Enter first number: \")\n",
    "number2 = input (\"Enter second number: \")\n",
    "product = int(number1) * int(number2)\n",
    "\n",
    "if(product <= 1000):\n",
    "    print(\"The result is \" + str(product))\n",
    "else:\n",
    "    print(\"The result is \" + str(int(number1) + int(number2)))"
   ]
  },
  {
   "cell_type": "markdown",
   "id": "d8b11d3c",
   "metadata": {},
   "source": [
    "# BMI Calculator\n",
    "Write a program that interprets the Body Mass Index (BMI) based on a user's weight and height.\n",
    "\n",
    "It should tell them the interpretation of their BMI based on the BMI value.\n",
    "\n",
    "Under 18.5 they are underweight\n",
    "\n",
    "Over 18.5 but below 25 they have a normal weight\n",
    "\n",
    "Over 25 but below 30 they are slightly overweight\n",
    "\n",
    "Over 30 but below 35 they are obese\n",
    "\n",
    "Above 35 they are clinically obese."
   ]
  },
  {
   "cell_type": "code",
   "execution_count": 8,
   "id": "7ea95355",
   "metadata": {},
   "outputs": [
    {
     "name": "stdout",
     "output_type": "stream",
     "text": [
      "enter your height in m: 1.54\n",
      "enter your weight in kg: 54.43\n",
      "23\n",
      "Normal weight\n"
     ]
    }
   ],
   "source": [
    "# 🚨 Don't change the code below 👇\n",
    "height = float(input(\"enter your height in m: \"))\n",
    "weight = float(input(\"enter your weight in kg: \"))\n",
    "# 🚨 Don't change the code above 👆\n",
    "\n",
    "#Write your code below this line 👇\n",
    "bmi = round(weight / height ** 2)\n",
    "print (bmi)\n",
    "if bmi < 18.5 :\n",
    "    print(\"Underweight\")\n",
    "elif 18.5 < bmi < 25 :\n",
    "    print(\"Normal weight\")\n",
    "elif 30 < bmi < 35 :\n",
    "    print(\"Obese\")\n",
    "else:\n",
    "    print(\"Clinically obese\")"
   ]
  },
  {
   "cell_type": "markdown",
   "id": "25febb8b",
   "metadata": {},
   "source": [
    "# Grade calculator\n",
    "\n",
    "         Marks                        Grade\n",
    "         > 90                           A\n",
    "         > 80 and <= 90                 B\n",
    "         >= 60 and <= 80                C\n",
    "         below 60                       D"
   ]
  },
  {
   "cell_type": "code",
   "execution_count": 6,
   "id": "811e7424",
   "metadata": {},
   "outputs": [
    {
     "name": "stdout",
     "output_type": "stream",
     "text": [
      "Enter your marks : 66\n",
      " Grade C\n"
     ]
    }
   ],
   "source": [
    "marks = int(input(\"Enter your marks : \"))\n",
    "if (marks > 90):\n",
    "    print (\" Grade A\")\n",
    "if (marks > 80 and marks <= 90):\n",
    "    print (\"Grade B\")\n",
    "if (marks >= 60 and marks <= 80):\n",
    "    print (\" Grade C\")\n",
    "else:\n",
    "    print (\"Grade D\")\n",
    "    \n",
    "    "
   ]
  },
  {
   "cell_type": "markdown",
   "id": "828908de",
   "metadata": {},
   "source": [
    "# Calculate the remaining age\n",
    "\n",
    "Create a program using maths and f-Strings that tells us how many days, weeks, months we have left if we live until 90 years old.\n",
    "\n",
    "It will take your current age as the input and output a message with our time left in this format:\n",
    "\n",
    "You have x days, y weeks, and z months left.\n",
    "\n",
    "Where x, y and z are replaced with the actual calculated numbers."
   ]
  },
  {
   "cell_type": "code",
   "execution_count": 17,
   "id": "165226f6",
   "metadata": {},
   "outputs": [
    {
     "name": "stdout",
     "output_type": "stream",
     "text": [
      "What is your current age? 89\n",
      "You have 365 days, 52 weeks, and 12 months left.\n"
     ]
    }
   ],
   "source": [
    "# 🚨 Don't change the code below 👇\n",
    "age = input(\"What is your current age? \")\n",
    "# 🚨 Don't change the code above 👆\n",
    "\n",
    "#Write your code below this line 👇\n",
    "\n",
    "remaining_age = 90 - int(age)\n",
    "days = remaining_age * 365\n",
    "months = remaining_age * 12\n",
    "weeks = remaining_age * 52\n",
    "\n",
    "print(\"You have \" + str(days) + \" days, \" + str(weeks) + \" weeks, and \" + \n",
    "      str(months) + \" months left.\")"
   ]
  },
  {
   "cell_type": "code",
   "execution_count": null,
   "id": "67d23f5d",
   "metadata": {},
   "outputs": [],
   "source": []
  },
  {
   "cell_type": "code",
   "execution_count": null,
   "id": "23cde27f",
   "metadata": {},
   "outputs": [],
   "source": []
  },
  {
   "cell_type": "markdown",
   "id": "fa45d51b",
   "metadata": {},
   "source": [
    "# String occurrence\n",
    "\n",
    "Write a program to find all occurrences of “USA” in a given string ignoring the case.\n",
    "\n",
    "Given \n",
    "\n",
    "```\n",
    "str1 = \"Welcome to USA. usa awesome, isn't it?\"\n",
    "```\n",
    "\n",
    "Expected Output\n",
    "\n",
    "```\n",
    "The USA count is: 2\n",
    "\n",
    "```"
   ]
  },
  {
   "cell_type": "code",
   "execution_count": 1,
   "id": "cf8f761e",
   "metadata": {},
   "outputs": [
    {
     "name": "stdout",
     "output_type": "stream",
     "text": [
      "The USA count is: 2\n"
     ]
    }
   ],
   "source": [
    "str1 = \"Welcome to USA. usa awesome, isn't it?\"\n",
    "print(\"The USA count is: \" + str(str1.upper().count('USA')))"
   ]
  },
  {
   "cell_type": "code",
   "execution_count": null,
   "id": "39f2d1e5",
   "metadata": {},
   "outputs": [],
   "source": []
  },
  {
   "cell_type": "markdown",
   "id": "0045d16e",
   "metadata": {
    "ExecuteTime": {
     "end_time": "2022-06-24T04:08:21.536780Z",
     "start_time": "2022-06-24T04:08:21.532034Z"
    }
   },
   "source": [
    "# Leap Year\n",
    "\n",
    "Write a program that works out whether if a given year is a leap year. A normal year has 365 days, leap years have 366, with an extra day in February. The reason why we have leap years is really fascinating, this video does it more justice:\n",
    "\n",
    "This is how you work out whether if a particular year is a leap year.\n",
    "\n",
    "on every year that is evenly divisible by 4 \n",
    "\n",
    "except every year that is evenly divisible by 100 \n",
    "\n",
    "unless the year is also evenly divisible by 400\n",
    "\n",
    "e.g. The year 2000:\n",
    "\n",
    "2000 ÷ 4 = 500 (Leap)\n",
    "\n",
    "2000 ÷ 100 = 20 (Not Leap)\n",
    "\n",
    "2000 ÷ 400 = 5 (Leap!)\n",
    "\n",
    "So the year 2000 is a leap year.\n",
    "\n",
    "But the year 2100 is not a leap year because:\n",
    "\n",
    "2100 ÷ 4 = 525 (Leap)\n",
    "\n",
    "2100 ÷ 100 = 21 (Not Leap)\n",
    "\n",
    "2100 ÷ 400 = 5.25 (Not Leap)"
   ]
  },
  {
   "cell_type": "code",
   "execution_count": 9,
   "id": "ef4b3c24",
   "metadata": {},
   "outputs": [
    {
     "name": "stdout",
     "output_type": "stream",
     "text": [
      "Enter a year: 2400\n",
      "Leap Year\n"
     ]
    }
   ],
   "source": [
    "year = int(input(\"Enter a year: \"))\n",
    "if (year % 4 ==0) and  (year % 100 != 0):\n",
    "    print(\"Leap Year\")\n",
    "elif (year % 4 == 0) and (year % 400 == 0):\n",
    "    print(\"Leap Year\")\n",
    "else:\n",
    "    print(\"Not Leap Year\") "
   ]
  },
  {
   "cell_type": "code",
   "execution_count": null,
   "id": "d57d8b95",
   "metadata": {},
   "outputs": [],
   "source": []
  },
  {
   "cell_type": "code",
   "execution_count": null,
   "id": "7366ffb5",
   "metadata": {},
   "outputs": [],
   "source": []
  },
  {
   "cell_type": "markdown",
   "id": "7cc3cc69",
   "metadata": {},
   "source": [
    "# Pizza\n",
    "\n",
    "Congratulations, you've got a job at Python Pizza. Your first job is to build an automatic pizza order program.\n",
    "\n",
    "Based on a user's order, work out their final bill.\n",
    "\n",
    "Small Pizza: $15\n",
    "\n",
    "Medium Pizza: $20\n",
    "\n",
    "Large Pizza: $25\n",
    "\n",
    "Pepperoni for Small Pizza: +$2\n",
    "\n",
    "Pepperoni for Medium or Large Pizza: +$3\n",
    "\n",
    "Extra cheese for any size pizza: + $1"
   ]
  },
  {
   "cell_type": "code",
   "execution_count": 1,
   "id": "9e82b4be",
   "metadata": {
    "ExecuteTime": {
     "end_time": "2022-06-25T15:48:41.305464Z",
     "start_time": "2022-06-25T15:48:35.512687Z"
    }
   },
   "outputs": [
    {
     "name": "stdout",
     "output_type": "stream",
     "text": [
      "Welcome to Python Pizza Deliveries!\n",
      "What size pizza do you want? S, M, or L L\n",
      "Do you want pepperoni? Y or N Y\n",
      "Do you want extra cheese? Y or N N\n",
      "Your final bill is: $28.\n"
     ]
    }
   ],
   "source": [
    "print(\"Welcome to Python Pizza Deliveries!\")\n",
    "size = input(\"What size pizza do you want? S, M, or L \")\n",
    "add_pepperoni = input(\"Do you want pepperoni? Y or N \")\n",
    "extra_cheese = input(\"Do you want extra cheese? Y or N \")\n",
    "\n",
    "#Write your code below this line 👇\n",
    "\n",
    "size = size.upper()\n",
    "add_pepperoni = add_pepperoni.upper()\n",
    "extra_cheese = extra_cheese.upper()\n",
    "\n",
    "def small_size():\n",
    "    if (add_pepperoni == 'Y') and (extra_cheese == 'Y'):\n",
    "        bill = 15 + 2 + 1     \n",
    "    elif (add_pepperoni == 'Y') and (extra_cheese == 'N'):\n",
    "        bill = 15 + 2\n",
    "    elif (add_pepperoni == 'N') and (extra_cheese == 'Y'):\n",
    "        bill = 15 + 1\n",
    "    else:\n",
    "        bill = 15\n",
    "    return(bill)\n",
    "        \n",
    "def medium_size():\n",
    "    if (add_pepperoni == 'Y') and (extra_cheese == 'Y'):\n",
    "        bill = 20 + 3 + 1\n",
    "    elif (add_pepperoni == 'Y') and (extra_cheese == 'N'):\n",
    "        bill = 20 + 3\n",
    "    elif (add_pepperoni == 'N') and (extra_cheese == 'Y'):\n",
    "        bill = 20 + 1\n",
    "    else:\n",
    "        bill = 20\n",
    "    return(bill)\n",
    "\n",
    "def large_size():\n",
    "    if (add_pepperoni == 'Y') and (extra_cheese == 'Y'):\n",
    "        bill = 25 + 3 + 1\n",
    "    elif (add_pepperoni == 'Y') and (extra_cheese == 'N'):\n",
    "        bill = 25 + 3\n",
    "    elif add_pepperoni == 'N' and extra_cheese == 'Y':\n",
    "        bill = 25 + 1\n",
    "    else:\n",
    "        bill = 25\n",
    "    return(bill)\n",
    "\n",
    "\n",
    "if size == 'S':\n",
    "    bill = small_size()\n",
    "    \n",
    "elif size == 'M':\n",
    "    bill = medium_size()\n",
    "    \n",
    "elif size == 'L':\n",
    "    bill = large_size()\n",
    "    \n",
    "else:\n",
    "    bill = 0\n",
    "\n",
    "print(f\"Your final bill is: ${bill}.\")"
   ]
  },
  {
   "cell_type": "markdown",
   "id": "d0a90b24",
   "metadata": {},
   "source": []
  },
  {
   "cell_type": "code",
   "execution_count": null,
   "id": "d0b97f00",
   "metadata": {},
   "outputs": [],
   "source": []
  },
  {
   "cell_type": "markdown",
   "id": "68030207",
   "metadata": {},
   "source": [
    "# Love Calculator"
   ]
  },
  {
   "cell_type": "markdown",
   "id": "7b1fd9c2",
   "metadata": {},
   "source": [
    "You are going to write a program that tests the compatibility between two people.\n",
    "\n",
    "To work out the love score between two people:\n",
    "\n",
    "Take both people's names and check for the number of times the letters in the word TRUE occurs. \n",
    "\n",
    "Then check for the number of times the letters in the word LOVE occurs. \n",
    "\n",
    "Then combine these numbers to make a 2 digit number.\n",
    "\n",
    "For Love Scores less than 10 or greater than 90, the message should be:\n",
    "\n",
    "\"Your score is x, you go together like coke and mentos.\"\n",
    "For Love Scores between 40 and 50, the message should be:\n",
    "\n",
    "\"Your score is y, you are alright together.\"\n",
    "Otherwise, the message will just be their score. e.g.:\n",
    "\n",
    "\"Your score is z.\""
   ]
  },
  {
   "cell_type": "code",
   "execution_count": 23,
   "id": "58e37da3",
   "metadata": {},
   "outputs": [
    {
     "name": "stdout",
     "output_type": "stream",
     "text": [
      "Welcome to the Love Calculator!\n",
      "What is your name? \n",
      "Andrew\n",
      "What is their name? \n",
      "Daisy Drew\n",
      "42\n",
      "Your score is 42, you are alright together.\n"
     ]
    }
   ],
   "source": [
    "\n",
    "print(\"Welcome to the Love Calculator!\")\n",
    "name1 = input(\"What is your name? \\n\")\n",
    "name2 = input(\"What is their name? \\n\")\n",
    "\n",
    "#Write your code below this line 👇\n",
    "name1 = name1.upper()\n",
    "name2 = name2.upper()\n",
    "\n",
    "total_count_true = (name1.count('T'))\n",
    "total_count_true += (name1.count('R'))\n",
    "total_count_true += (name1.count('U'))\n",
    "total_count_true += (name1.count('E'))\n",
    "\n",
    "total_count_true += (name2.count('T'))\n",
    "total_count_true += (name2.count('R'))\n",
    "total_count_true += (name2.count('U'))\n",
    "total_count_true += (name2.count('E'))\n",
    "\n",
    "total_count_love = (name1.count('L'))\n",
    "total_count_love += (name1.count('O'))\n",
    "total_count_love += (name1.count('V'))\n",
    "total_count_love += (name1.count('E'))\n",
    "\n",
    "total_count_love += (name2.count('L'))\n",
    "total_count_love += (name2.count('O'))\n",
    "total_count_love += (name2.count('V'))\n",
    "total_count_love += (name2.count('E'))\n",
    "\n",
    "sum = str(total_count_true) + str(total_count_love)\n",
    "\n",
    "sum = int(sum)\n",
    "print(sum)\n",
    "\n",
    "if (sum < 10 or sum > 90):\n",
    "    print(\"Your score is \" + str(sum) + \", you go together like coke and mentos.\")\n",
    "\n",
    "elif ( 40 < sum < 50, ):\n",
    "    print(\"Your score is \" + str(sum) + \", you are alright together.\")\n",
    "\n",
    "else:\n",
    "    print(\"Your score is \" + str(sum) + \".\")"
   ]
  },
  {
   "cell_type": "markdown",
   "id": "d3e2eadd",
   "metadata": {
    "ExecuteTime": {
     "end_time": "2022-06-24T16:20:03.267987Z",
     "start_time": "2022-06-24T16:20:03.264651Z"
    }
   },
   "source": [
    "# Head or tail\n",
    "You are going to write a virtual coin toss program. It will randomly tell the user \"Heads\" or \"Tails\".\n",
    "\n",
    "There are many ways of doing this. But to practice what we learnt in the last lesson, you should generate a random number, either 0 or 1. Then use that number to print out Heads or Tails.\n",
    "\n",
    "e.g. 1 means Heads 0 means Tails\n",
    "\n",
    "Example Output\n",
    "\n",
    "Heads\n",
    "\n",
    "or\n",
    "\n",
    "Tails"
   ]
  },
  {
   "cell_type": "code",
   "execution_count": 29,
   "id": "1bc046ad",
   "metadata": {},
   "outputs": [
    {
     "name": "stdout",
     "output_type": "stream",
     "text": [
      "Tails\n"
     ]
    }
   ],
   "source": [
    "import random\n",
    "\n",
    "#Write your code below this line 👇\n",
    "head_tail = random.randint(0,1)\n",
    "if head_tail == 1 :\n",
    "    print(\"Tails\")\n",
    "else:\n",
    "    print(\"Head\")"
   ]
  },
  {
   "cell_type": "code",
   "execution_count": null,
   "id": "665a855a",
   "metadata": {},
   "outputs": [],
   "source": [
    "\n"
   ]
  },
  {
   "cell_type": "code",
   "execution_count": null,
   "id": "d33abfc4",
   "metadata": {},
   "outputs": [],
   "source": []
  },
  {
   "cell_type": "code",
   "execution_count": null,
   "id": "557840d0",
   "metadata": {},
   "outputs": [],
   "source": []
  },
  {
   "cell_type": "code",
   "execution_count": null,
   "id": "542f6ca4",
   "metadata": {},
   "outputs": [],
   "source": []
  }
 ],
 "metadata": {
  "kernelspec": {
   "display_name": "Python 3 (ipykernel)",
   "language": "python",
   "name": "python3"
  },
  "language_info": {
   "codemirror_mode": {
    "name": "ipython",
    "version": 3
   },
   "file_extension": ".py",
   "mimetype": "text/x-python",
   "name": "python",
   "nbconvert_exporter": "python",
   "pygments_lexer": "ipython3",
   "version": "3.10.8"
  },
  "toc": {
   "base_numbering": 1,
   "nav_menu": {},
   "number_sections": true,
   "sideBar": true,
   "skip_h1_title": false,
   "title_cell": "Table of Contents",
   "title_sidebar": "Contents",
   "toc_cell": false,
   "toc_position": {
    "height": "calc(100% - 180px)",
    "left": "10px",
    "top": "150px",
    "width": "320px"
   },
   "toc_section_display": true,
   "toc_window_display": true
  }
 },
 "nbformat": 4,
 "nbformat_minor": 5
}
